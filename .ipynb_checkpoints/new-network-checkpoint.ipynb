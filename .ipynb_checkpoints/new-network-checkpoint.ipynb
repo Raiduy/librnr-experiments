{
 "cells": [
  {
   "cell_type": "code",
   "execution_count": 2,
   "id": "f6c77f74",
   "metadata": {},
   "outputs": [
    {
     "name": "stdout",
     "output_type": "stream",
     "text": [
      ".\\clumsy-bandwidth-100Mbps\n",
      ".\\clumsy-bandwidth-30Mbps\n",
      ".\\clumsy-bandwidth-50Mbps\n",
      ".\\clumsy-bandwidth-80Mbps\n",
      ".\\clumsy-dropchance-0.001\n",
      ".\\clumsy-dropchance-0.01\n",
      ".\\clumsy-dropchance-0.025\n",
      ".\\clumsy-dropchance-0.05\n"
     ]
    }
   ],
   "source": [
    "import os\n",
    "\n",
    "def find_clumsy_directories(root='.'):\n",
    "    for dirpath, dirnames, filenames in os.walk(root):\n",
    "        for dirname in dirnames:\n",
    "            if 'clumsy' in dirname.lower():\n",
    "                print(os.path.join(dirpath, dirname))\n",
    "                \n",
    "\n",
    "# Call the function with the current directory as the root\n",
    "find_clumsy_directories()"
   ]
  },
  {
   "cell_type": "code",
   "execution_count": null,
   "id": "115d2d0b",
   "metadata": {},
   "outputs": [],
   "source": []
  }
 ],
 "metadata": {
  "kernelspec": {
   "display_name": "Python 3 (ipykernel)",
   "language": "python",
   "name": "python3"
  },
  "language_info": {
   "codemirror_mode": {
    "name": "ipython",
    "version": 3
   },
   "file_extension": ".py",
   "mimetype": "text/x-python",
   "name": "python",
   "nbconvert_exporter": "python",
   "pygments_lexer": "ipython3",
   "version": "3.10.2"
  }
 },
 "nbformat": 4,
 "nbformat_minor": 5
}
